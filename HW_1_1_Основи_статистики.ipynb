{
  "cells": [
    {
      "cell_type": "markdown",
      "metadata": {
        "id": "SDhaTqxcWhnP"
      },
      "source": [
        "В цьому домашньому завданні відпрацюємо з вами знання, отримані в модулі зі статистики.\n",
        "\n",
        "**Завдання 1.** Ми обговорили з Вами на лекції, що велика літера Сігма грецького алфавіту позначає в математиці суму. Знайдіть з використанням Python $\\Sigma x$, $\\Sigma x^2$, та $\\Sigma (x-1)^2$ для наступного набору даних:\n",
        "`1 3 4`\n",
        "Виведіть результат кожного обчислення на екран."
      ]
    },
    {
      "cell_type": "code",
      "execution_count": 11,
      "metadata": {
        "id": "B1mgx_IBT0e8"
      },
      "outputs": [
        {
          "name": "stdout",
          "output_type": "stream",
          "text": [
            "8\n",
            "26\n",
            "13\n"
          ]
        }
      ],
      "source": [
        "\n",
        "x = [1, 3, 4]\n",
        "sum_x = sum(x)\n",
        "sum_x_sq = sum(x**2 for x in x)\n",
        "sum_x_minus_one_sq = sum((x-1)**2 for x in x)\n",
        "print(sum_x)\n",
        "print(sum_x_sq)\n",
        "print(sum_x_minus_one_sq)"
      ]
    },
    {
      "cell_type": "markdown",
      "metadata": {
        "id": "fa78aW5lhiia"
      },
      "source": [
        "**Завдання 2.** Ми зібрали дані про суму покупок в гривнях 20ма випадково обраними клієнтами в нашому магазині (всього клієнтів у нас більше) за минулий місяць. Вони представлені в змінній `sum_purchases`. Знайдіть **вибіркове середнє** для цих даних кожним з зазначених методів:   \n",
        "\n",
        "  2.1. без використання жодних бібліотек, користуючись тільки Python.  \n",
        "  2.2. використовуючи відповідний метод бібліотеки `numpy`.\n",
        "\n",
        "  Виведіть результат обчислень в кожному з випадків на екран та порівняйте результати. Вони співпадають?"
      ]
    },
    {
      "cell_type": "code",
      "execution_count": null,
      "metadata": {
        "id": "_9kMt3rq6V5m"
      },
      "outputs": [],
      "source": [
        " sum_purchases= [ 316,  493,  367,  153,  224,  121,  322,  450,  196,  397,  281,\n",
        "  239,  484,  124,  223,  448,  432,  255, 4310, 3524]"
      ]
    },
    {
      "cell_type": "code",
      "execution_count": 15,
      "metadata": {
        "id": "wPmL919HT1c0"
      },
      "outputs": [
        {
          "name": "stdout",
          "output_type": "stream",
          "text": [
            "667.95\n",
            "667.95\n"
          ]
        }
      ],
      "source": [
        "import numpy as np\n",
        "mean_purchase = sum(x for x in sum_purchases)/len(sum_purchases)\n",
        "mean_purchase_np = np.mean(sum_purchases)\n",
        "print(mean_purchase)\n",
        "print(mean_purchase_np)"
      ]
    },
    {
      "cell_type": "markdown",
      "metadata": {
        "id": "FMdoxZd0kZdW"
      },
      "source": [
        "**Завдання 3.** Для того ж набору даних в змінній `sum_purchases` обчисліть **медіану** кожним з зазначених методів:  \n",
        "\n",
        "  3.1. без використання жодних бібліотек, користуючись тільки Python.  \n",
        "  3.2. використовуючи відповідний метод бібліотеки numpy.  \n",
        "\n",
        "Виведіть результат обчислень в кожному з випадків на екран. Порівняйте результати зі значенням вибіркового середнього. Напишіть коментар, для яких задач ви б використовували вибіркове середнє, а для яких - медіану?"
      ]
    },
    {
      "cell_type": "code",
      "execution_count": 27,
      "metadata": {
        "id": "x58BumvuT2nl"
      },
      "outputs": [
        {
          "name": "stdout",
          "output_type": "stream",
          "text": [
            "319.0\n",
            "319.0\n"
          ]
        }
      ],
      "source": [
        "\n",
        "median_purchase = (sorted(sum_purchases)[len(sum_purchases)//2-1]+sorted(sum_purchases)[len(sum_purchases)//2])/2\n",
        "median_purchase_np = np.median(sum_purchases)\n",
        "print(median_purchase)\n",
        "print(median_purchase_np)"
      ]
    },
    {
      "cell_type": "markdown",
      "metadata": {
        "id": "o1Z7az2yNDQV"
      },
      "source": [
        "**Завдання 4**. Обчислість стандартне відхилення наведеної вибірки в змінній `sum_purchases` кожним з зазначених методів:  \n",
        "\n",
        "  4.1. без використання жодних бібліотек, користуючись тільки Python.  \n",
        "  4.2. використовуючи відповідний метод бібліотеки numpy.  \n",
        "\n",
        "Виведіть результат обчислень в кожному з випадків на екран."
      ]
    },
    {
      "cell_type": "code",
      "execution_count": 24,
      "metadata": {
        "id": "X4ixtmL2T642"
      },
      "outputs": [
        {
          "name": "stdout",
          "output_type": "stream",
          "text": [
            "1124.5433447451132\n",
            "1124.5433447451132\n"
          ]
        }
      ],
      "source": [
        "purchase_minus_mean = ((el-mean_purchase)**2 for el in sum_purchases)\n",
        "std_purchase = np.sqrt(sum(purchase_minus_mean)/(len(sum_purchases)-1))\n",
        "std_purchase_np = np.std(sum_purchases, ddof=1)\n",
        "print(std_purchase)\n",
        "print(std_purchase_np)"
      ]
    },
    {
      "cell_type": "markdown",
      "metadata": {
        "id": "M1ntKTjXLVlH"
      },
      "source": [
        "**Завдання 5**. Ми провели дослідження віку студентів-першокурсників. Виявилось, що\n",
        "- 10 студентів мають вік 16 років\n",
        "- 25 студентів - 17 років\n",
        "- 20 студентів - 18 років\n",
        "- 2 студенти - 20 років\n",
        "\n",
        "Обчислість середнє значення для цієї вибірки будь-яким способом - на чистому Python або з numpy - та виведіть результат на екран."
      ]
    },
    {
      "cell_type": "code",
      "execution_count": 26,
      "metadata": {
        "id": "RdIU4M-7T8R4"
      },
      "outputs": [
        {
          "name": "stdout",
          "output_type": "stream",
          "text": [
            "17.280701754385966\n"
          ]
        }
      ],
      "source": [
        "age = [16]*10 + [17]*25 + [18]*20 + [20]*2\n",
        "mean_age = np.mean(age)\n",
        "print(mean_age)"
      ]
    },
    {
      "cell_type": "markdown",
      "metadata": {
        "id": "Xx8MFkkVM53z"
      },
      "source": [
        "**Завдання 6**. Крім даних про суму покупок, ми зібрали ще дані про кількість відвідувань кожного з кожного покупця, які знаходяться в змінній `visits`. Обчисліть коефіцієнт кореляції Пірсона для суми покупок і кількості відвідувань кожним з зазначених методів:  \n",
        "\n",
        "  6.1. без використання жодних бібліотек, користуючись тільки Python.  \n",
        "  6.2. використовуючи відповідний метод бібліотеки numpy.  \n",
        "  \n",
        "Виведіть результат на екран. Проаналізуйте результат.\n",
        "\n",
        "Виведіть додатково графік розсіювання викликавши код нижче і зробіть заключення, чи варто щось змінити при підрахунку кореляції, аби коефіцієнт Пірсона показував коректну оцінку лінійної залежності?"
      ]
    },
    {
      "cell_type": "code",
      "execution_count": 29,
      "metadata": {
        "id": "4OIGBT7UOWhO"
      },
      "outputs": [],
      "source": [
        "visits = [ 6,  2, 10,  3,  9,  9,  2,  3,  6,  6, 10,  2,  5, 10,  3,  5,  4,\n",
        "        7,  4,  2]"
      ]
    },
    {
      "cell_type": "code",
      "execution_count": 32,
      "metadata": {
        "id": "YLNF7VbeT97Q"
      },
      "outputs": [
        {
          "name": "stdout",
          "output_type": "stream",
          "text": [
            "-0.30265844687666454\n",
            "[[ 1.         -0.30265845]\n",
            " [-0.30265845  1.        ]]\n"
          ]
        }
      ],
      "source": [
        "mean_visits = sum(x for x in visits)/len(visits)\n",
        "visits_minus_mean =  ((el-mean_visits)**2 for el in visits)\n",
        "std_visits = np.sqrt(sum(visits_minus_mean)/(len(visits)-1))\n",
        "\n",
        "sumpurch_visits = [(sum_purchases[i]-mean_purchase)*(visits[i]-mean_visits) for i in range(len(sum_purchases))]\n",
        "cov_sumpurch_visits = sum(sumpurch_visits)/(len(sum_purchases)-1)\n",
        "corr_coef_sumpurch_visits = cov_sumpurch_visits/(std_purchase*std_visits)\n",
        "corr_coef_sumpurch_visits_np = np.corrcoef(sum_purchases, visits)\n",
        "print(corr_coef_sumpurch_visits)\n",
        "print(corr_coef_sumpurch_visits_np)"
      ]
    },
    {
      "cell_type": "code",
      "execution_count": 33,
      "metadata": {
        "colab": {
          "base_uri": "https://localhost:8080/",
          "height": 472
        },
        "id": "gaeoGA-5Prr1",
        "outputId": "0c910a7f-0e96-449a-881d-1efa453b3c8d"
      },
      "outputs": [
        {
          "data": {
            "image/png": "[encoded data removed]",
            "text/plain": [
              "<Figure size 640x480 with 1 Axes>"
            ]
          },
          "metadata": {},
          "output_type": "display_data"
        }
      ],
      "source": [
        "import matplotlib.pyplot as plt\n",
        "\n",
        "plt.scatter(sum_purchases, visits)\n",
        "plt.title('Scatter Plot of Purchases vs. Visits')\n",
        "plt.xlabel('Sum of Purchases')\n",
        "plt.ylabel('Number of Visits');"
      ]
    },
    {
      "cell_type": "markdown",
      "metadata": {},
      "source": [
        "Для того щоб коефіціент Пірсона показував коректну оцінку лінійної залежності необхідно вилучити два виняткових значення з суми покупок а саме 4310, 3524."
      ]
    },
    {
      "cell_type": "markdown",
      "metadata": {
        "id": "4pEg0KzSQ6KA"
      },
      "source": [
        "**Завдання 7**. В попередньому завданні ми помітили, що викиди нам заважають отримати \"правдиве\" значення кореляції. Давайте вилучимо записи, які відповідають значенням з викидами в сумі покупок і обчисліть коеф. кореляції. Для цього поставте `threshold`, який дорінює середньому значенню + 2 стандартних вдіхилля суми покупок і всі значення, які більше за нього, будемо вважати викидами (є і інші правила для визначення викидів - з ним и познайомимось пізніше).\n",
        "\n",
        "Вилучіть значення з обох масивів і обчисліть коеф. кореляції Пірсона з допомогою `numpy` для кількості візитів і суми покупок без записів-викидів. Виведіть результат на екран, побудуйте діаграму розсіювання і проаналізуйте результат: що можемо сказати про залежність в даних?"
      ]
    },
    {
      "cell_type": "code",
      "execution_count": 45,
      "metadata": {
        "id": "Yj3Yfaf7UBbc"
      },
      "outputs": [
        {
          "name": "stdout",
          "output_type": "stream",
          "text": [
            "[316 493 367 153 224 121 322 450 196 397 281 239 484 124 223 448 432 255]\n",
            "[ 6  2 10  3  9  9  2  3  6  6 10  2  5 10  3  5  4  7]\n",
            "[[ 1.         -0.36852121]\n",
            " [-0.36852121  1.        ]]\n"
          ]
        },
        {
          "data": {
            "image/png": "[encoded data removed]",
            "text/plain": [
              "<Figure size 640x480 with 1 Axes>"
            ]
          },
          "metadata": {},
          "output_type": "display_data"
        }
      ],
      "source": [
        "sum_purchases= np.array([ 316,  493,  367,  153,  224,  121,  322,  450,  196,  397,  281, 239,  484,  124,  223,  448,  432,  255, 4310, 3524])\n",
        "visits = np.array([ 6,  2, 10,  3,  9,  9,  2,  3,  6,  6, 10,  2,  5, 10,  3,  5,  4, 7,  4,  2])\n",
        "\n",
        "upper_bound = mean_purchase + 2 * std_purchase\n",
        "mask = sum_purchases < upper_bound\n",
        "sum_purch_filtered = sum_purchases[mask]\n",
        "visits_filtered = visits[mask]\n",
        "print(sum_purch_filtered)\n",
        "print(visits_filtered)\n",
        "corr_coef_sumpurch_visits_filtered = np.corrcoef(sum_purch_filtered, visits_filtered)\n",
        "print(corr_coef_sumpurch_visits_filtered)\n",
        "\n",
        "plt.scatter(sum_purch_filtered, visits_filtered)\n",
        "plt.title('Scatter Plot of Purchases vs. Visits filtered')\n",
        "plt.xlabel('Sum of Purchases')\n",
        "plt.ylabel('Number of Visits');"
      ]
    },
    {
      "cell_type": "markdown",
      "metadata": {},
      "source": [
        "Аналізуючи отримані значення коефіціента кореляції Пірсона та діограму розсіювання, можемо сказати що між змінними існує слабкий від'ємний лінійний зв'язок."
      ]
    }
  ],
  "metadata": {
    "colab": {
      "provenance": []
    },
    "kernelspec": {
      "display_name": "Python 3",
      "name": "python3"
    },
    "language_info": {
      "codemirror_mode": {
        "name": "ipython",
        "version": 3
      },
      "file_extension": ".py",
      "mimetype": "text/x-python",
      "name": "python",
      "nbconvert_exporter": "python",
      "pygments_lexer": "ipython3",
      "version": "3.13.3"
    }
  },
  "nbformat": 4,
  "nbformat_minor": 0
}
