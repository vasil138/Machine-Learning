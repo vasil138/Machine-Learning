{
  "cells": [
    {
      "cell_type": "markdown",
      "metadata": {
        "id": "efug1V4CM0lT"
      },
      "source": [
        "### Завдання 1: Створення матриць та векторів\n",
        "1. Створіть `numpy` вектор `vector` розмірністю 10 з випадковими дійсними значеннями в діапазоні від 0 до 1. Можна скористатись двома альтернативними варіантами:\n",
        "  1. Генерація випадкових чисел з модулем [`random.uniform`](https://docs.python.org/3/library/random.html).\n",
        "  2. Створення вектора з допомогою метода `numpy` [np.random.rand](https://numpy.org/doc/stable/reference/random/generated/numpy.random.rand.html)\n",
        "\n",
        "2. Створіть матрицю `matrix` типу `numpy.array` розмірності 3x3 з наступними значеннями\n",
        "\n",
        "  $$\n",
        "  matrix = \\begin{bmatrix}\n",
        "  11 & 14 & 17 \\\\\n",
        "  20 & 23 & 26 \\\\\n",
        "  29 & 32 & 35\n",
        "  \\end{bmatrix}\n",
        "  $$\n",
        "\n",
        "  будь-яким відомими Вам способом.\n",
        "\n",
        "Виведіть на екран вектор і матрицю, а також їх розміри.\n"
      ]
    },
    {
      "cell_type": "code",
      "execution_count": null,
      "metadata": {
        "id": "jxA_lG2_VIMe"
      },
      "outputs": [],
      "source": [
        "import numpy as np"
      ]
    },
    {
      "cell_type": "code",
      "execution_count": 10,
      "metadata": {},
      "outputs": [
        {
          "name": "stdout",
          "output_type": "stream",
          "text": [
            "[0.93489311 0.13543275 0.82676555 0.02496071 0.39400643 0.53063147\n",
            " 0.34280187 0.7222654  0.14741422 0.30541155]\n",
            "Розмір вектоора: (10,)\n"
          ]
        }
      ],
      "source": [
        "vector1 = np.random.uniform(0, 1, size = 10)\n",
        "print(vector1)\n",
        "print(\"Розмір вектоора:\", vector1.shape)"
      ]
    },
    {
      "cell_type": "code",
      "execution_count": 11,
      "metadata": {},
      "outputs": [
        {
          "name": "stdout",
          "output_type": "stream",
          "text": [
            "[0.41517552 0.88547816 0.18012863 0.80432628 0.48672094 0.40276621\n",
            " 0.91721776 0.86934468 0.3822629  0.77791031]\n",
            "Розмір вектоора: (10,)\n"
          ]
        }
      ],
      "source": [
        "vector2 = np.random.rand(10)\n",
        "print(vector2)\n",
        "print(\"Розмір вектоора:\", vector2.shape)"
      ]
    },
    {
      "cell_type": "code",
      "execution_count": 12,
      "metadata": {},
      "outputs": [
        {
          "name": "stdout",
          "output_type": "stream",
          "text": [
            "[[11 14 17]\n",
            " [20 23 26]\n",
            " [29 32 35]]\n",
            "Розмір матриці: (3, 3)\n"
          ]
        }
      ],
      "source": [
        "matrix = np.array([[11, 14, 17],\n",
        "                   [20, 23, 26],\n",
        "                   [29, 32, 35]])\n",
        "print(matrix)\n",
        "print(\"Розмір матриці:\", matrix.shape)"
      ]
    },
    {
      "cell_type": "markdown",
      "metadata": {
        "id": "TSJ1P4OuOVe2"
      },
      "source": [
        "\n",
        "### Завдання 2: Операції над векторами та матрицями\n",
        "Виконайте кожну з зазначених операцій над зазначеними оʼєктами і виведіть результат на екран:\n",
        "1. Додайте до кожного значення вектора `vector` число 10 і округліть кожне значення до 2 знаків після коми без використання циклів.\n",
        "2. Помножте кожен елемент матриці з першого завдання на 2 без використання циклів.\n",
        "3. Створіть новий вектор, який містить квадрат кожного `vector` без циклів.\n"
      ]
    },
    {
      "cell_type": "code",
      "execution_count": 13,
      "metadata": {
        "id": "nAAojtyUVJXN"
      },
      "outputs": [
        {
          "name": "stdout",
          "output_type": "stream",
          "text": [
            "[0.67208961 0.12260649 0.13862083 0.62231723 0.05752775 0.91077597\n",
            " 0.63553252 0.30663452 0.50036503 0.11317014]\n",
            "[10.67 10.12 10.14 10.62 10.06 10.91 10.64 10.31 10.5  10.11]\n"
          ]
        }
      ],
      "source": [
        "vector = np.random.uniform(0, 1, size = 10)\n",
        "print(vector)\n",
        "result = np.round(vector+10, 2)\n",
        "print(result)"
      ]
    },
    {
      "cell_type": "code",
      "execution_count": 14,
      "metadata": {},
      "outputs": [
        {
          "name": "stdout",
          "output_type": "stream",
          "text": [
            "[[11 14 17]\n",
            " [20 23 26]\n",
            " [29 32 35]]\n",
            "[[22 28 34]\n",
            " [40 46 52]\n",
            " [58 64 70]]\n"
          ]
        }
      ],
      "source": [
        "print(matrix)\n",
        "matrix_x_2 = 2 * matrix\n",
        "print(matrix_x_2)"
      ]
    },
    {
      "cell_type": "code",
      "execution_count": 15,
      "metadata": {},
      "outputs": [
        {
          "name": "stdout",
          "output_type": "stream",
          "text": [
            "[0.45170444 0.01503235 0.01921573 0.38727874 0.00330944 0.82951287\n",
            " 0.40390158 0.09402473 0.25036517 0.01280748]\n"
          ]
        }
      ],
      "source": [
        "vector_squared = np.square(vector)\n",
        "print(vector_squared)"
      ]
    },
    {
      "cell_type": "markdown",
      "metadata": {
        "id": "u6RvWVfhPy-k"
      },
      "source": [
        "\n",
        "### Завдання 3: Множення матриць\n",
        "1. Задані дві матриці `A` і `B`розмірностями 3x2 та 2х3. Виконайте їхнє множення, щоб отримати матрицю 2x2. Виведіть результуючу матрицю `result_matrix` на екран.\n",
        "\n",
        "2. Заданий вектор `C` розмірністю 2х1. Подумайте спочатку, яку розмірність Ви отрмаєте, коли домножите `result_matrix` на вектор `C` і який результат буде. А потім виконайте множення і виведіть результат на екран.\n",
        "\n",
        "3. Задана матриця `D` розмірністю 2х2. Подумайте спочатку, яку розмірність Ви отрмаєте, коли домножите `result_matrix` на матрицю `D` і який результат буде. А потім виконайте множення і виведіть результат на екран."
      ]
    },
    {
      "cell_type": "code",
      "execution_count": 16,
      "metadata": {
        "id": "RwXfPzlbSJ44"
      },
      "outputs": [
        {
          "data": {
            "text/plain": [
              "array([[0.18, 0.53],\n",
              "       [0.75, 0.47],\n",
              "       [0.35, 0.21]])"
            ]
          },
          "metadata": {},
          "output_type": "display_data"
        },
        {
          "data": {
            "text/plain": [
              "array([[0.17, 0.58, 0.75],\n",
              "       [0.38, 0.11, 0.15]])"
            ]
          },
          "metadata": {},
          "output_type": "display_data"
        },
        {
          "data": {
            "text/plain": [
              "array([[0],\n",
              "       [1]])"
            ]
          },
          "metadata": {},
          "output_type": "display_data"
        },
        {
          "data": {
            "text/plain": [
              "array([[0, 1],\n",
              "       [1, 0]])"
            ]
          },
          "metadata": {},
          "output_type": "display_data"
        }
      ],
      "source": [
        "A = np.array(\n",
        "    [[0.18, 0.53],\n",
        "     [0.75, 0.47],\n",
        "     [0.35, 0.21]])\n",
        "\n",
        "B = np.array(\n",
        "    [[0.17, 0.58, 0.75],\n",
        "     [0.38, 0.11, 0.15]])\n",
        "\n",
        "C = np.array([[0], [1]])\n",
        "\n",
        "D = np.array([[0,1], [1,0]])\n",
        "\n",
        "display(A, B, C, D)"
      ]
    },
    {
      "cell_type": "code",
      "execution_count": 19,
      "metadata": {
        "id": "z7-boTbhVKkj"
      },
      "outputs": [
        {
          "name": "stdout",
          "output_type": "stream",
          "text": [
            "[[0.7281 0.5202]\n",
            " [0.2034 0.2846]]\n"
          ]
        }
      ],
      "source": [
        "result_matrix = np.dot(B,A)\n",
        "print(result_matrix)"
      ]
    },
    {
      "cell_type": "markdown",
      "metadata": {},
      "source": [
        "Розмірність результату множення `result_matrix` на вектор `C` буде дорівнювати 2"
      ]
    },
    {
      "cell_type": "code",
      "execution_count": 22,
      "metadata": {},
      "outputs": [
        {
          "name": "stdout",
          "output_type": "stream",
          "text": [
            "[[0.5202]\n",
            " [0.2846]]\n"
          ]
        }
      ],
      "source": [
        "result_vector = np.dot(result_matrix, C)\n",
        "print(result_vector)"
      ]
    },
    {
      "cell_type": "markdown",
      "metadata": {},
      "source": [
        "В результаті множення `result_matrix` на `D` ми отримаємо матрицю 2х2"
      ]
    },
    {
      "cell_type": "code",
      "execution_count": 23,
      "metadata": {},
      "outputs": [
        {
          "name": "stdout",
          "output_type": "stream",
          "text": [
            "[[0.5202 0.7281]\n",
            " [0.2846 0.2034]]\n"
          ]
        }
      ],
      "source": [
        "result_matrix_x_D = np.dot(result_matrix, D)\n",
        "print(result_matrix_x_D)"
      ]
    },
    {
      "cell_type": "markdown",
      "metadata": {
        "id": "wohp0_cxSGpl"
      },
      "source": [
        "\n",
        "### Завдання 4: Транспонування матриць\n",
        "1. Транспонуйте `result_matrix`.\n",
        "2. Зробіть транспонування вектора `vector` і виведіть форму нової структури. Чи бачите ви зміну?\n",
        "3. Використайте операцію `numpy.expand_dims` над вектором `vector` з аргументом axis=1. Запишіть отриманий результат в змінну `column_vector` і виведіть на екран. Порівняйте з `vector`.\n",
        "4. Зробіть транспонування `column_vector`, виведіть результат на екран разом з розмірностями отриманої структури.\n",
        "\n",
        "\n"
      ]
    },
    {
      "cell_type": "code",
      "execution_count": 24,
      "metadata": {
        "id": "4hFcq1baVLii"
      },
      "outputs": [
        {
          "name": "stdout",
          "output_type": "stream",
          "text": [
            "[[0.7281 0.2034]\n",
            " [0.5202 0.2846]]\n"
          ]
        }
      ],
      "source": [
        "result_matrix_t = result_matrix.T\n",
        "print(result_matrix_t)"
      ]
    },
    {
      "cell_type": "code",
      "execution_count": 29,
      "metadata": {},
      "outputs": [
        {
          "name": "stdout",
          "output_type": "stream",
          "text": [
            "[0.67208961 0.12260649 0.13862083 0.62231723 0.05752775 0.91077597\n",
            " 0.63553252 0.30663452 0.50036503 0.11317014]\n",
            "(10,)\n"
          ]
        }
      ],
      "source": [
        "vector_t = vector.T\n",
        "print(vector_t)\n",
        "print(vector_t.shape)"
      ]
    },
    {
      "cell_type": "markdown",
      "metadata": {},
      "source": [
        "Схоже, що нічого не змінилося, тому що vector - це одномірний масив. Для того щоб транспонування змінило його форму треба спочатку перетворити його на двомірний вектор-стовпець, або вектор-строку. Наприклад:"
      ]
    },
    {
      "cell_type": "code",
      "execution_count": 31,
      "metadata": {},
      "outputs": [
        {
          "name": "stdout",
          "output_type": "stream",
          "text": [
            "[[0.67208961]\n",
            " [0.12260649]\n",
            " [0.13862083]\n",
            " [0.62231723]\n",
            " [0.05752775]\n",
            " [0.91077597]\n",
            " [0.63553252]\n",
            " [0.30663452]\n",
            " [0.50036503]\n",
            " [0.11317014]]\n",
            "(10, 1)\n",
            "[[0.67208961 0.12260649 0.13862083 0.62231723 0.05752775 0.91077597\n",
            "  0.63553252 0.30663452 0.50036503 0.11317014]]\n",
            "(1, 10)\n"
          ]
        }
      ],
      "source": [
        "vector_column = vector.reshape(-1, 1)\n",
        "print(vector_column)\n",
        "print(vector_column.shape)\n",
        "t_vector_column = vector_column.T\n",
        "print(t_vector_column)\n",
        "print(t_vector_column.shape)"
      ]
    },
    {
      "cell_type": "code",
      "execution_count": 34,
      "metadata": {},
      "outputs": [
        {
          "name": "stdout",
          "output_type": "stream",
          "text": [
            "[[0.67208961]\n",
            " [0.12260649]\n",
            " [0.13862083]\n",
            " [0.62231723]\n",
            " [0.05752775]\n",
            " [0.91077597]\n",
            " [0.63553252]\n",
            " [0.30663452]\n",
            " [0.50036503]\n",
            " [0.11317014]]\n",
            "(10, 1)\n"
          ]
        }
      ],
      "source": [
        "column_vector = np.expand_dims(vector, axis = 1)\n",
        "print(column_vector)\n",
        "print(column_vector.shape)"
      ]
    },
    {
      "cell_type": "markdown",
      "metadata": {},
      "source": [
        "Операція `numpy.expand_dims` теж перетворює одновимірний масив на двовимірний."
      ]
    },
    {
      "cell_type": "code",
      "execution_count": 35,
      "metadata": {},
      "outputs": [
        {
          "name": "stdout",
          "output_type": "stream",
          "text": [
            "[[0.67208961 0.12260649 0.13862083 0.62231723 0.05752775 0.91077597\n",
            "  0.63553252 0.30663452 0.50036503 0.11317014]]\n",
            "(1, 10)\n"
          ]
        }
      ],
      "source": [
        "column_vector_t = column_vector.T \n",
        "print(column_vector_t)\n",
        "print(column_vector_t.shape)"
      ]
    }
  ],
  "metadata": {
    "colab": {
      "provenance": []
    },
    "kernelspec": {
      "display_name": "Python 3",
      "name": "python3"
    },
    "language_info": {
      "codemirror_mode": {
        "name": "ipython",
        "version": 3
      },
      "file_extension": ".py",
      "mimetype": "text/x-python",
      "name": "python",
      "nbconvert_exporter": "python",
      "pygments_lexer": "ipython3",
      "version": "3.13.3"
    }
  },
  "nbformat": 4,
  "nbformat_minor": 0
}
